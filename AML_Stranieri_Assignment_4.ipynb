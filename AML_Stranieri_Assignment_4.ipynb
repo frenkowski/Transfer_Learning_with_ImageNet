{
  "nbformat": 4,
  "nbformat_minor": 0,
  "metadata": {
    "accelerator": "GPU",
    "colab": {
      "name": "AML_Stranieri_816551_Assignment_4.ipynb",
      "provenance": [],
      "collapsed_sections": [
        "Gzm3LbWE4IUX",
        "35Kbc8kfG68A",
        "igyJuNO0IcjE",
        "LP2YW_1gIpwP",
        "3ENR-qTvS1ML",
        "jJjD6As8Jm-I",
        "S-maYu0NLI-k",
        "wcH01ooRYqug",
        "ujJuZH7La51r",
        "zR507U3qcLZm",
        "SWTrl8LtdbY2",
        "KrRdMpKAiKWn"
      ]
    },
    "kernelspec": {
      "display_name": "Python 3",
      "name": "python3"
    }
  },
  "cells": [
    {
      "cell_type": "markdown",
      "metadata": {
        "id": "6ti6fIFbGGEO"
      },
      "source": [
        "# Introduction\n",
        "The task of the assignment 4 is **Transfer Learning** using a CNN pretrained on *IMAGENET*.\n",
        "\n",
        "The suggested architecture is the *VGG16*.\n",
        "\n",
        "The CNN should be used as fixed **feature extractor** on a new task of your choice containing a number of classes in the range from 2 to 10. "
      ]
    },
    {
      "cell_type": "markdown",
      "metadata": {
        "id": "Gzm3LbWE4IUX"
      },
      "source": [
        "## Classifier\n",
        "The features extracted from the \"*cut models*\" were given in input to a **Logistic Regression** classifier.\n",
        "\n",
        "In fact, Logistic Regression is one of the basic methods for *classification* in machine learning and is used to explain the relationship between one dependent (*binary*) variable and one, or more, independent variables.\n",
        "\n",
        "In order to avoid **overfitting**, regularization (*l2*) has been applied.\n",
        "\n",
        "For evaluating the performance, the *accuracy* of the training and the test set has been measured. For the test set the *confusion matrix* has also been calculated. "
      ]
    },
    {
      "cell_type": "markdown",
      "metadata": {
        "id": "35Kbc8kfG68A"
      },
      "source": [
        "# Dataset\n",
        "The chosen dataset allows a *binary classification* between **dogs** and **cats**.\n",
        "This choice was made because IMAGENET allows a breed-level classification of these two animals.\n",
        "\n",
        "The dataset used, available [here](https://www.floydhub.com/moriano/datasets), contains 2500 images for training and 2501 for testing and is perfectly *balanced*.\n",
        "\n",
        "The images have dimensions equal to 224x224 (as required by the VGG16 model) and are in RGB format.\n",
        "\n",
        "To generate the dataset the useful function `image_dataset_from_directory` has been used, directly from [Keras API](https://keras.io/api/preprocessing/image/)."
      ]
    },
    {
      "cell_type": "code",
      "metadata": {
        "id": "uMg-KikO4Qtq"
      },
      "source": [
        "# import libraries\n",
        "import numpy as np\n",
        "import matplotlib.pyplot as plt\n",
        "plt.style.use('dark_background')\n",
        "%matplotlib inline"
      ],
      "execution_count": 113,
      "outputs": []
    },
    {
      "cell_type": "code",
      "metadata": {
        "colab": {
          "base_uri": "https://localhost:8080/"
        },
        "id": "6Qm-7ZPwV4vd",
        "outputId": "5de6b7c3-2cda-4b99-ee56-c549804746c7"
      },
      "source": [
        "# we can use a Google Drive folder as a \"normal\" folder\n",
        "from google.colab import drive\n",
        "drive.mount('/content/gdrive', force_remount=True)\n",
        "root_dir = '/content/gdrive/My Drive/AML/Assignment_4/'"
      ],
      "execution_count": 114,
      "outputs": [
        {
          "output_type": "stream",
          "text": [
            "Mounted at /content/gdrive\n"
          ],
          "name": "stdout"
        }
      ]
    },
    {
      "cell_type": "code",
      "metadata": {
        "id": "Ni5VR1_VXnJy"
      },
      "source": [
        "# https://machinelearningmastery.com/how-to-load-large-datasets-from-directories-for-deep-learning-with-keras/\n",
        "from keras.preprocessing.image import ImageDataGenerator\n",
        "from tensorflow.keras.applications.vgg16 import preprocess_input\n",
        "\n",
        "# create a data generator and preprocess the input \n",
        "datagen = ImageDataGenerator(preprocessing_function=preprocess_input)"
      ],
      "execution_count": 115,
      "outputs": []
    },
    {
      "cell_type": "markdown",
      "metadata": {
        "id": "igyJuNO0IcjE"
      },
      "source": [
        "## Training set"
      ]
    },
    {
      "cell_type": "code",
      "metadata": {
        "colab": {
          "base_uri": "https://localhost:8080/"
        },
        "id": "4IpdqdQM7O0J",
        "outputId": "0cc7f4e4-2b23-48cf-f2a2-402a75589076"
      },
      "source": [
        "# load and iterate training dataset\n",
        "training_datagen = datagen.flow_from_directory(directory=root_dir+'training/',\n",
        "                                               # an RGB image has three channels\n",
        "                                               color_mode='rgb',\n",
        "                                               # classification task with two classes (cat and dog)\n",
        "                                               class_mode='binary',\n",
        "                                               # size required by the model\n",
        "                                               target_size=(224, 224), \n",
        "                                               # size of the batches\n",
        "                                               batch_size=64,\n",
        "                                               shuffle=False,\n",
        "                                               seed=2020\n",
        ")"
      ],
      "execution_count": 116,
      "outputs": [
        {
          "output_type": "stream",
          "text": [
            "Found 2500 images belonging to 2 classes.\n"
          ],
          "name": "stdout"
        }
      ]
    },
    {
      "cell_type": "code",
      "metadata": {
        "colab": {
          "base_uri": "https://localhost:8080/"
        },
        "id": "WeBpS66Fc3zR",
        "outputId": "b9341400-fede-490c-bc78-b0ee1326d43e"
      },
      "source": [
        "# load training labels\n",
        "training_datagen_labels = training_datagen.labels\n",
        "training_datagen_labels"
      ],
      "execution_count": 117,
      "outputs": [
        {
          "output_type": "execute_result",
          "data": {
            "text/plain": [
              "array([0, 0, 0, ..., 1, 1, 1], dtype=int32)"
            ]
          },
          "metadata": {
            "tags": []
          },
          "execution_count": 117
        }
      ]
    },
    {
      "cell_type": "markdown",
      "metadata": {
        "id": "LP2YW_1gIpwP"
      },
      "source": [
        "## Test set"
      ]
    },
    {
      "cell_type": "code",
      "metadata": {
        "colab": {
          "base_uri": "https://localhost:8080/"
        },
        "id": "ZVaI_uJ17Pqh",
        "outputId": "f15fed0a-3861-4449-bbf2-615b8682f42d"
      },
      "source": [
        "# load and iterate test dataset\n",
        "test_datagen = datagen.flow_from_directory(directory=root_dir+'test/',\n",
        "                                            color_mode='rgb',\n",
        "                                            class_mode='binary',\n",
        "                                            target_size=(224, 224), \n",
        "                                            batch_size=64,\n",
        "                                            shuffle=False,\n",
        "                                            seed=2020)"
      ],
      "execution_count": 118,
      "outputs": [
        {
          "output_type": "stream",
          "text": [
            "Found 2501 images belonging to 2 classes.\n"
          ],
          "name": "stdout"
        }
      ]
    },
    {
      "cell_type": "code",
      "metadata": {
        "colab": {
          "base_uri": "https://localhost:8080/"
        },
        "id": "G96soAQ-8u7l",
        "outputId": "22ef3db3-4286-4097-c9a2-7c76cb0d3727"
      },
      "source": [
        "# load test labels\n",
        "test_datagen_labels = test_datagen.labels\n",
        "test_datagen_labels"
      ],
      "execution_count": 119,
      "outputs": [
        {
          "output_type": "execute_result",
          "data": {
            "text/plain": [
              "array([0, 0, 0, ..., 1, 1, 1], dtype=int32)"
            ]
          },
          "metadata": {
            "tags": []
          },
          "execution_count": 119
        }
      ]
    },
    {
      "cell_type": "markdown",
      "metadata": {
        "id": "3ENR-qTvS1ML"
      },
      "source": [
        "# VGG16 (base)\n",
        "We can notice how the VGG16 base model has more than 138M of parameters (100M of which on *fc1* layer)."
      ]
    },
    {
      "cell_type": "code",
      "metadata": {
        "colab": {
          "base_uri": "https://localhost:8080/"
        },
        "id": "AHsm7czVY6k9",
        "outputId": "0eb9852c-d9a3-4aa6-a31d-d2a22b3d5950"
      },
      "source": [
        "# import VGG16 model\n",
        "from tensorflow.keras.applications.vgg16 import VGG16\n",
        "from tensorflow.keras.models import Model\n",
        "\n",
        "base_model = VGG16(weights='imagenet')\n",
        "base_model.summary()"
      ],
      "execution_count": 120,
      "outputs": [
        {
          "output_type": "stream",
          "text": [
            "Model: \"vgg16\"\n",
            "_________________________________________________________________\n",
            "Layer (type)                 Output Shape              Param #   \n",
            "=================================================================\n",
            "input_9 (InputLayer)         [(None, 224, 224, 3)]     0         \n",
            "_________________________________________________________________\n",
            "block1_conv1 (Conv2D)        (None, 224, 224, 64)      1792      \n",
            "_________________________________________________________________\n",
            "block1_conv2 (Conv2D)        (None, 224, 224, 64)      36928     \n",
            "_________________________________________________________________\n",
            "block1_pool (MaxPooling2D)   (None, 112, 112, 64)      0         \n",
            "_________________________________________________________________\n",
            "block2_conv1 (Conv2D)        (None, 112, 112, 128)     73856     \n",
            "_________________________________________________________________\n",
            "block2_conv2 (Conv2D)        (None, 112, 112, 128)     147584    \n",
            "_________________________________________________________________\n",
            "block2_pool (MaxPooling2D)   (None, 56, 56, 128)       0         \n",
            "_________________________________________________________________\n",
            "block3_conv1 (Conv2D)        (None, 56, 56, 256)       295168    \n",
            "_________________________________________________________________\n",
            "block3_conv2 (Conv2D)        (None, 56, 56, 256)       590080    \n",
            "_________________________________________________________________\n",
            "block3_conv3 (Conv2D)        (None, 56, 56, 256)       590080    \n",
            "_________________________________________________________________\n",
            "block3_pool (MaxPooling2D)   (None, 28, 28, 256)       0         \n",
            "_________________________________________________________________\n",
            "block4_conv1 (Conv2D)        (None, 28, 28, 512)       1180160   \n",
            "_________________________________________________________________\n",
            "block4_conv2 (Conv2D)        (None, 28, 28, 512)       2359808   \n",
            "_________________________________________________________________\n",
            "block4_conv3 (Conv2D)        (None, 28, 28, 512)       2359808   \n",
            "_________________________________________________________________\n",
            "block4_pool (MaxPooling2D)   (None, 14, 14, 512)       0         \n",
            "_________________________________________________________________\n",
            "block5_conv1 (Conv2D)        (None, 14, 14, 512)       2359808   \n",
            "_________________________________________________________________\n",
            "block5_conv2 (Conv2D)        (None, 14, 14, 512)       2359808   \n",
            "_________________________________________________________________\n",
            "block5_conv3 (Conv2D)        (None, 14, 14, 512)       2359808   \n",
            "_________________________________________________________________\n",
            "block5_pool (MaxPooling2D)   (None, 7, 7, 512)         0         \n",
            "_________________________________________________________________\n",
            "flatten (Flatten)            (None, 25088)             0         \n",
            "_________________________________________________________________\n",
            "fc1 (Dense)                  (None, 4096)              102764544 \n",
            "_________________________________________________________________\n",
            "fc2 (Dense)                  (None, 4096)              16781312  \n",
            "_________________________________________________________________\n",
            "predictions (Dense)          (None, 1000)              4097000   \n",
            "=================================================================\n",
            "Total params: 138,357,544\n",
            "Trainable params: 138,357,544\n",
            "Non-trainable params: 0\n",
            "_________________________________________________________________\n"
          ],
          "name": "stdout"
        }
      ]
    },
    {
      "cell_type": "markdown",
      "metadata": {
        "id": "jJjD6As8Jm-I"
      },
      "source": [
        "# VGG16 (block5_pool)\n",
        "As a first experiment, we do not want to load the *final dense layers* of the VGG16 base model.\n",
        "As a consequence the architecture is much smaller, also in the number of parameters (14.7M vs 138.3M). The number of features is 25088."
      ]
    },
    {
      "cell_type": "code",
      "metadata": {
        "colab": {
          "base_uri": "https://localhost:8080/"
        },
        "id": "05-Dn7WmU8_p",
        "outputId": "804d6ebb-18d4-4131-86d4-5a8507c965d3"
      },
      "source": [
        "# base model cut to block5_pool layer\n",
        "model_block5 = VGG16(weights='imagenet', include_top=False)\n",
        "model_block5.summary()"
      ],
      "execution_count": 121,
      "outputs": [
        {
          "output_type": "stream",
          "text": [
            "Model: \"vgg16\"\n",
            "_________________________________________________________________\n",
            "Layer (type)                 Output Shape              Param #   \n",
            "=================================================================\n",
            "input_10 (InputLayer)        [(None, None, None, 3)]   0         \n",
            "_________________________________________________________________\n",
            "block1_conv1 (Conv2D)        (None, None, None, 64)    1792      \n",
            "_________________________________________________________________\n",
            "block1_conv2 (Conv2D)        (None, None, None, 64)    36928     \n",
            "_________________________________________________________________\n",
            "block1_pool (MaxPooling2D)   (None, None, None, 64)    0         \n",
            "_________________________________________________________________\n",
            "block2_conv1 (Conv2D)        (None, None, None, 128)   73856     \n",
            "_________________________________________________________________\n",
            "block2_conv2 (Conv2D)        (None, None, None, 128)   147584    \n",
            "_________________________________________________________________\n",
            "block2_pool (MaxPooling2D)   (None, None, None, 128)   0         \n",
            "_________________________________________________________________\n",
            "block3_conv1 (Conv2D)        (None, None, None, 256)   295168    \n",
            "_________________________________________________________________\n",
            "block3_conv2 (Conv2D)        (None, None, None, 256)   590080    \n",
            "_________________________________________________________________\n",
            "block3_conv3 (Conv2D)        (None, None, None, 256)   590080    \n",
            "_________________________________________________________________\n",
            "block3_pool (MaxPooling2D)   (None, None, None, 256)   0         \n",
            "_________________________________________________________________\n",
            "block4_conv1 (Conv2D)        (None, None, None, 512)   1180160   \n",
            "_________________________________________________________________\n",
            "block4_conv2 (Conv2D)        (None, None, None, 512)   2359808   \n",
            "_________________________________________________________________\n",
            "block4_conv3 (Conv2D)        (None, None, None, 512)   2359808   \n",
            "_________________________________________________________________\n",
            "block4_pool (MaxPooling2D)   (None, None, None, 512)   0         \n",
            "_________________________________________________________________\n",
            "block5_conv1 (Conv2D)        (None, None, None, 512)   2359808   \n",
            "_________________________________________________________________\n",
            "block5_conv2 (Conv2D)        (None, None, None, 512)   2359808   \n",
            "_________________________________________________________________\n",
            "block5_conv3 (Conv2D)        (None, None, None, 512)   2359808   \n",
            "_________________________________________________________________\n",
            "block5_pool (MaxPooling2D)   (None, None, None, 512)   0         \n",
            "=================================================================\n",
            "Total params: 14,714,688\n",
            "Trainable params: 14,714,688\n",
            "Non-trainable params: 0\n",
            "_________________________________________________________________\n"
          ],
          "name": "stdout"
        }
      ]
    },
    {
      "cell_type": "code",
      "metadata": {
        "id": "twsHPXEjMqvq"
      },
      "source": [
        "# extract and reshape features\n",
        "def block_features(model, datagen):\n",
        "  # extract the train/test features\n",
        "  features = model.predict(datagen)\n",
        "  \n",
        "  # print the shape (and the first feature)\n",
        "  print('shape of features:', features.shape)\n",
        "  #print('features[1]: ', features[1])\n",
        "  \n",
        "  # reshape features from 1x7x7x512 to 1x(7x7x512)\n",
        "  print('RESHAPE...')\n",
        "  features = features.reshape(features.shape[0], \n",
        "                              features.shape[1]*\n",
        "                              features.shape[2]*\n",
        "                              features.shape[3])\n",
        "  \n",
        "  # print the \"new\" shape (and the \"new\" first feature)\n",
        "  print('shape of features:', features.shape)\n",
        "  #print('features[1]: ', features[1])\n",
        "  \n",
        "  # check the number of nonzero columns for the first feature\n",
        "  #print('nonzero columns in features[1]: ', np.count_nonzero(features[1])) \n",
        "  \n",
        "  return(features)"
      ],
      "execution_count": 122,
      "outputs": []
    },
    {
      "cell_type": "code",
      "metadata": {
        "colab": {
          "base_uri": "https://localhost:8080/"
        },
        "id": "XSFVbaO2OOfl",
        "outputId": "b24f6a3c-b870-4868-b5dc-aac2019f854b"
      },
      "source": [
        "# extract training features from model_block5\n",
        "training_features = block_features(model_block5, training_datagen)"
      ],
      "execution_count": 123,
      "outputs": [
        {
          "output_type": "stream",
          "text": [
            "shape of features: (2500, 7, 7, 512)\n",
            "RESHAPE...\n",
            "shape of features: (2500, 25088)\n"
          ],
          "name": "stdout"
        }
      ]
    },
    {
      "cell_type": "markdown",
      "metadata": {
        "id": "S-maYu0NLI-k"
      },
      "source": [
        "# LogisticRegression (block5_pool)\n",
        "With respect to the \"*block5_pool model*\", the accuracy of the test set is particularly good (0.98%).\n"
      ]
    },
    {
      "cell_type": "code",
      "metadata": {
        "id": "mR547kEscE-i"
      },
      "source": [
        "# https://realpython.com/logistic-regression-python/\n",
        "from sklearn.linear_model import LogisticRegression\n",
        "from sklearn.metrics import classification_report, confusion_matrix"
      ],
      "execution_count": 124,
      "outputs": []
    },
    {
      "cell_type": "code",
      "metadata": {
        "id": "eWPFPIQ1VQNr"
      },
      "source": [
        "# logistic regression classifier\n",
        "def logistic_model(training_features, training_datagen_labels, \n",
        "                   test_datagen, test_datagen_labels, model):\n",
        "  # define classifier\n",
        "  lr = LogisticRegression(penalty='l2', # regularization\n",
        "                          #C=10.0,\n",
        "                          solver='liblinear', # is a good choice for small datasets \n",
        "                          multi_class='ovr', # data is binary\n",
        "                          random_state=2020 # shuffle the data\n",
        "                          )\n",
        "  # classifier fitting\n",
        "  lr.fit(training_features, training_datagen_labels)\n",
        "\n",
        "  # matrix of probabilities\n",
        "  # first column is the probability of the predicted output being zero\n",
        "  # second column is the probability that the output is one\n",
        "  print('matrix of probabilities for training istances:\\n', lr.predict_proba(training_features))\n",
        "  print()\n",
        "  \n",
        "  # extract test features from VGG16 model\n",
        "  test_features = block_features(model, test_datagen)\n",
        "\n",
        "  # matrix of probabilities\n",
        "  # first column is the probability of the predicted output being zero\n",
        "  # second column is the probability that the output is one\n",
        "  print()\n",
        "  print('matrix of probabilities for testing istances:\\n', lr.predict_proba(test_features))\n",
        "\n",
        "  # ratio of the number of correct predictions to the number of observations for training set\n",
        "  acc_training = lr.score(training_features, training_datagen_labels)\n",
        "\n",
        "  # ratio of the number of correct predictions to the number of observations for test set\n",
        "  acc_test = lr.score(test_features, test_datagen_labels)\n",
        "  # evaluate the performance of classifier by comparing the actual and predicted outputs\n",
        "  cm = confusion_matrix(test_datagen_labels, lr.predict(test_features))\n",
        "\n",
        "  return (acc_training, acc_test, cm)"
      ],
      "execution_count": 125,
      "outputs": []
    },
    {
      "cell_type": "code",
      "metadata": {
        "colab": {
          "base_uri": "https://localhost:8080/"
        },
        "id": "9-qjlBvkWjgr",
        "outputId": "8e3a72db-d556-4365-b9d9-57cbd83642e8"
      },
      "source": [
        "# compute classification metrics to quantify the logistic regression performance wrt model_block5 features\n",
        "acc_training_block5, acc_test_block5, cm_block5 = logistic_model(training_features, training_datagen_labels, \n",
        "                                                                 test_datagen, test_datagen_labels, model_block5)"
      ],
      "execution_count": 126,
      "outputs": [
        {
          "output_type": "stream",
          "text": [
            "matrix of probabilities for training istances:\n",
            " [[9.99999995e-01 5.23150673e-09]\n",
            " [9.99999999e-01 9.41754155e-10]\n",
            " [9.99761652e-01 2.38347773e-04]\n",
            " ...\n",
            " [8.35240158e-06 9.99991648e-01]\n",
            " [5.28045089e-04 9.99471955e-01]\n",
            " [8.31988150e-07 9.99999168e-01]]\n",
            "\n",
            "shape of features: (2501, 7, 7, 512)\n",
            "RESHAPE...\n",
            "shape of features: (2501, 25088)\n",
            "\n",
            "matrix of probabilities for testing istances:\n",
            " [[9.99241436e-01 7.58563673e-04]\n",
            " [9.99999992e-01 7.68981246e-09]\n",
            " [9.99999956e-01 4.43682350e-08]\n",
            " ...\n",
            " [7.07663179e-05 9.99929234e-01]\n",
            " [1.48769885e-14 1.00000000e+00]\n",
            " [2.26570991e-05 9.99977343e-01]]\n"
          ],
          "name": "stdout"
        }
      ]
    },
    {
      "cell_type": "code",
      "metadata": {
        "colab": {
          "base_uri": "https://localhost:8080/"
        },
        "id": "NIOeheFkN-Pc",
        "outputId": "a2a92a43-9bcf-454e-a4b7-3e281dfdd706"
      },
      "source": [
        "# accuracy of model_block5\n",
        "print('Accuracy on training set: ', acc_training_block5)\n",
        "print('Accuracy on test set: ', acc_test_block5)"
      ],
      "execution_count": 127,
      "outputs": [
        {
          "output_type": "stream",
          "text": [
            "Accuracy on training set:  1.0\n",
            "Accuracy on test set:  0.9768092762894842\n"
          ],
          "name": "stdout"
        }
      ]
    },
    {
      "cell_type": "code",
      "metadata": {
        "id": "5-4o421yZtR5"
      },
      "source": [
        "# aesthetic properties for the confusion matrix \n",
        "def plot_properties(ax, cm):\n",
        "  ax.imshow(cm)\n",
        "  ax.grid(False)\n",
        "  ax.xaxis.set(ticks=(0, 1), ticklabels=('Predicted 0s', 'Predicted 1s'))\n",
        "  ax.yaxis.set(ticks=(0, 1), ticklabels=('Actual 0s', 'Actual 1s'))\n",
        "  ax.set_ylim(1.5, -0.5)\n",
        "  for i in range(2):\n",
        "      for j in range(2):\n",
        "          ax.text(j, i, cm[i, j], ha='center', va='center', color='red')"
      ],
      "execution_count": 128,
      "outputs": []
    },
    {
      "cell_type": "code",
      "metadata": {
        "colab": {
          "base_uri": "https://localhost:8080/",
          "height": 483
        },
        "id": "jOKiB26aYolB",
        "outputId": "6c8016d5-697d-4b59-c78f-e3f2ff78a00f"
      },
      "source": [
        "# confusion matrix of model_block5 on test set\n",
        "fig, ax = plt.subplots(figsize=(8, 8))\n",
        "plot_properties(ax, cm_block5)\n",
        "plt.show()"
      ],
      "execution_count": 129,
      "outputs": [
        {
          "output_type": "display_data",
          "data": {
            "image/png": "[encoded data removed]",
            "text/plain": [
              "<Figure size 576x576 with 1 Axes>"
            ]
          },
          "metadata": {
            "tags": [],
            "needs_background": "dark"
          }
        }
      ]
    },
    {
      "cell_type": "markdown",
      "metadata": {
        "id": "wcH01ooRYqug"
      },
      "source": [
        "# VGG16 (block4_pool)\n",
        "In the second experiment conducted, we truncate VGG16 base model after the '*block4_pool*' layer.\n",
        "Architecture is even smaller and also the number of parameters (7.6M vs 138.3M). The features are 100352."
      ]
    },
    {
      "cell_type": "code",
      "metadata": {
        "colab": {
          "base_uri": "https://localhost:8080/"
        },
        "id": "Go5bDaW9JDND",
        "outputId": "90202c71-e797-42c0-8200-128737265ca7"
      },
      "source": [
        "# base model cut to block4_pool layer\n",
        "model_block4 = Model(inputs=base_model.input, outputs=base_model.get_layer('block4_pool').output)\n",
        "model_block4.summary()"
      ],
      "execution_count": 130,
      "outputs": [
        {
          "output_type": "stream",
          "text": [
            "Model: \"functional_17\"\n",
            "_________________________________________________________________\n",
            "Layer (type)                 Output Shape              Param #   \n",
            "=================================================================\n",
            "input_9 (InputLayer)         [(None, 224, 224, 3)]     0         \n",
            "_________________________________________________________________\n",
            "block1_conv1 (Conv2D)        (None, 224, 224, 64)      1792      \n",
            "_________________________________________________________________\n",
            "block1_conv2 (Conv2D)        (None, 224, 224, 64)      36928     \n",
            "_________________________________________________________________\n",
            "block1_pool (MaxPooling2D)   (None, 112, 112, 64)      0         \n",
            "_________________________________________________________________\n",
            "block2_conv1 (Conv2D)        (None, 112, 112, 128)     73856     \n",
            "_________________________________________________________________\n",
            "block2_conv2 (Conv2D)        (None, 112, 112, 128)     147584    \n",
            "_________________________________________________________________\n",
            "block2_pool (MaxPooling2D)   (None, 56, 56, 128)       0         \n",
            "_________________________________________________________________\n",
            "block3_conv1 (Conv2D)        (None, 56, 56, 256)       295168    \n",
            "_________________________________________________________________\n",
            "block3_conv2 (Conv2D)        (None, 56, 56, 256)       590080    \n",
            "_________________________________________________________________\n",
            "block3_conv3 (Conv2D)        (None, 56, 56, 256)       590080    \n",
            "_________________________________________________________________\n",
            "block3_pool (MaxPooling2D)   (None, 28, 28, 256)       0         \n",
            "_________________________________________________________________\n",
            "block4_conv1 (Conv2D)        (None, 28, 28, 512)       1180160   \n",
            "_________________________________________________________________\n",
            "block4_conv2 (Conv2D)        (None, 28, 28, 512)       2359808   \n",
            "_________________________________________________________________\n",
            "block4_conv3 (Conv2D)        (None, 28, 28, 512)       2359808   \n",
            "_________________________________________________________________\n",
            "block4_pool (MaxPooling2D)   (None, 14, 14, 512)       0         \n",
            "=================================================================\n",
            "Total params: 7,635,264\n",
            "Trainable params: 7,635,264\n",
            "Non-trainable params: 0\n",
            "_________________________________________________________________\n"
          ],
          "name": "stdout"
        }
      ]
    },
    {
      "cell_type": "code",
      "metadata": {
        "colab": {
          "base_uri": "https://localhost:8080/"
        },
        "id": "hAKlBz_6awQQ",
        "outputId": "87311846-5c7c-4fbb-8b9b-adc73887d3a6"
      },
      "source": [
        "# extract training features from model_block4\n",
        "training_features = block_features(model_block4, training_datagen)"
      ],
      "execution_count": 131,
      "outputs": [
        {
          "output_type": "stream",
          "text": [
            "shape of features: (2500, 14, 14, 512)\n",
            "RESHAPE...\n",
            "shape of features: (2500, 100352)\n"
          ],
          "name": "stdout"
        }
      ]
    },
    {
      "cell_type": "markdown",
      "metadata": {
        "id": "ujJuZH7La51r"
      },
      "source": [
        "# LogisticRegression (block4_pool)\n",
        "With respect to the \"*block4_pool model*\", the accuracy of the test set is still good (0.94%)."
      ]
    },
    {
      "cell_type": "code",
      "metadata": {
        "colab": {
          "base_uri": "https://localhost:8080/"
        },
        "id": "swgdm-1Ka-WO",
        "outputId": "c7a86434-63a5-4835-bbab-1b1cac6ca105"
      },
      "source": [
        "# compute classification metrics to quantify the logistic regression performance wrt model_block4 features\n",
        "acc_training_block4, acc_test_block4, cm_block4 = logistic_model(training_features, training_datagen_labels, \n",
        "                                                                 test_datagen, test_datagen_labels, model_block4)"
      ],
      "execution_count": 132,
      "outputs": [
        {
          "output_type": "stream",
          "text": [
            "matrix of probabilities for training istances:\n",
            " [[9.99984769e-01 1.52314551e-05]\n",
            " [9.99998689e-01 1.31058176e-06]\n",
            " [9.99945987e-01 5.40134031e-05]\n",
            " ...\n",
            " [1.88283841e-05 9.99981172e-01]\n",
            " [1.33604909e-04 9.99866395e-01]\n",
            " [1.39420805e-05 9.99986058e-01]]\n",
            "\n",
            "shape of features: (2501, 14, 14, 512)\n",
            "RESHAPE...\n",
            "shape of features: (2501, 100352)\n",
            "\n",
            "matrix of probabilities for testing istances:\n",
            " [[9.69409434e-01 3.05905656e-02]\n",
            " [9.99868065e-01 1.31934870e-04]\n",
            " [9.99988832e-01 1.11678298e-05]\n",
            " ...\n",
            " [1.84426797e-04 9.99815573e-01]\n",
            " [5.30091357e-07 9.99999470e-01]\n",
            " [3.02023536e-05 9.99969798e-01]]\n"
          ],
          "name": "stdout"
        }
      ]
    },
    {
      "cell_type": "code",
      "metadata": {
        "colab": {
          "base_uri": "https://localhost:8080/"
        },
        "id": "IqpStcYKOuJZ",
        "outputId": "a708a269-9db6-46de-eeee-a0bd41ea1eac"
      },
      "source": [
        "# accuracy of model_block4\n",
        "print('Accuracy on training set: ', acc_training_block4)\n",
        "print('Accuracy on test set: ', acc_test_block4)"
      ],
      "execution_count": 133,
      "outputs": [
        {
          "output_type": "stream",
          "text": [
            "Accuracy on training set:  1.0\n",
            "Accuracy on test set:  0.9384246301479409\n"
          ],
          "name": "stdout"
        }
      ]
    },
    {
      "cell_type": "code",
      "metadata": {
        "colab": {
          "base_uri": "https://localhost:8080/",
          "height": 483
        },
        "id": "ec16P_lTbHUv",
        "outputId": "f9aff539-5f41-4260-fbdf-1ce9a1dd7706"
      },
      "source": [
        "# confusion matrix of model_block4 on test set\n",
        "fig, ax = plt.subplots(figsize=(8, 8))\n",
        "plot_properties(ax, cm_block4)\n",
        "plt.show()"
      ],
      "execution_count": 134,
      "outputs": [
        {
          "output_type": "display_data",
          "data": {
            "image/png": "[encoded data removed]",
            "text/plain": [
              "<Figure size 576x576 with 1 Axes>"
            ]
          },
          "metadata": {
            "tags": [],
            "needs_background": "dark"
          }
        }
      ]
    },
    {
      "cell_type": "markdown",
      "metadata": {
        "id": "zR507U3qcLZm"
      },
      "source": [
        "# VGG16 (block3_pool)\n",
        "Finally, in the last experiment, we cut VGG16 base model after the '*block3_pool*' layer.\n",
        "The architecture is further smaller, of course also with regard to the parameters (1.7M vs 138.3M). The number of features is even 200704.\n"
      ]
    },
    {
      "cell_type": "code",
      "metadata": {
        "colab": {
          "base_uri": "https://localhost:8080/"
        },
        "id": "ochzaizscSu9",
        "outputId": "f6678556-2dc2-47e8-d3d6-b5745af3ecc8"
      },
      "source": [
        "# base model cut to block3_pool layer\n",
        "model_block3 = Model(inputs=base_model.input, outputs=base_model.get_layer('block3_pool').output)\n",
        "model_block3.summary()"
      ],
      "execution_count": 135,
      "outputs": [
        {
          "output_type": "stream",
          "text": [
            "Model: \"functional_19\"\n",
            "_________________________________________________________________\n",
            "Layer (type)                 Output Shape              Param #   \n",
            "=================================================================\n",
            "input_9 (InputLayer)         [(None, 224, 224, 3)]     0         \n",
            "_________________________________________________________________\n",
            "block1_conv1 (Conv2D)        (None, 224, 224, 64)      1792      \n",
            "_________________________________________________________________\n",
            "block1_conv2 (Conv2D)        (None, 224, 224, 64)      36928     \n",
            "_________________________________________________________________\n",
            "block1_pool (MaxPooling2D)   (None, 112, 112, 64)      0         \n",
            "_________________________________________________________________\n",
            "block2_conv1 (Conv2D)        (None, 112, 112, 128)     73856     \n",
            "_________________________________________________________________\n",
            "block2_conv2 (Conv2D)        (None, 112, 112, 128)     147584    \n",
            "_________________________________________________________________\n",
            "block2_pool (MaxPooling2D)   (None, 56, 56, 128)       0         \n",
            "_________________________________________________________________\n",
            "block3_conv1 (Conv2D)        (None, 56, 56, 256)       295168    \n",
            "_________________________________________________________________\n",
            "block3_conv2 (Conv2D)        (None, 56, 56, 256)       590080    \n",
            "_________________________________________________________________\n",
            "block3_conv3 (Conv2D)        (None, 56, 56, 256)       590080    \n",
            "_________________________________________________________________\n",
            "block3_pool (MaxPooling2D)   (None, 28, 28, 256)       0         \n",
            "=================================================================\n",
            "Total params: 1,735,488\n",
            "Trainable params: 1,735,488\n",
            "Non-trainable params: 0\n",
            "_________________________________________________________________\n"
          ],
          "name": "stdout"
        }
      ]
    },
    {
      "cell_type": "code",
      "metadata": {
        "colab": {
          "base_uri": "https://localhost:8080/"
        },
        "id": "DURz-hfedHh9",
        "outputId": "15154a42-db2e-4f62-ff22-ddbd3622452c"
      },
      "source": [
        "# extract training features from model_block3\n",
        "training_features = block_features(model_block3, training_datagen)"
      ],
      "execution_count": 136,
      "outputs": [
        {
          "output_type": "stream",
          "text": [
            "shape of features: (2500, 28, 28, 256)\n",
            "RESHAPE...\n",
            "shape of features: (2500, 200704)\n"
          ],
          "name": "stdout"
        }
      ]
    },
    {
      "cell_type": "markdown",
      "metadata": {
        "id": "SWTrl8LtdbY2"
      },
      "source": [
        "# LogisticRegression (block3_pool)\n",
        "With respect to the \"*block3_pool model*\", the accuracy of the test set tends to decrease significantly (0.84%)."
      ]
    },
    {
      "cell_type": "code",
      "metadata": {
        "colab": {
          "base_uri": "https://localhost:8080/"
        },
        "id": "-MkLybHudZQH",
        "outputId": "74b02db7-78c0-495f-f893-00dac3286563"
      },
      "source": [
        "# compute classification metrics to quantify the logistic regression performance wrt model_block3 features\n",
        "acc_training_block3, acc_test_block3, cm_block3 = logistic_model(training_features, training_datagen_labels, \n",
        "                                                                 test_datagen, test_datagen_labels, model_block3)"
      ],
      "execution_count": 137,
      "outputs": [
        {
          "output_type": "stream",
          "text": [
            "matrix of probabilities for training istances:\n",
            " [[9.99996725e-01 3.27548846e-06]\n",
            " [9.99989220e-01 1.07801715e-05]\n",
            " [9.99973683e-01 2.63165792e-05]\n",
            " ...\n",
            " [2.10825066e-05 9.99978917e-01]\n",
            " [6.90724590e-05 9.99930928e-01]\n",
            " [2.22372889e-05 9.99977763e-01]]\n",
            "\n",
            "shape of features: (2501, 28, 28, 256)\n",
            "RESHAPE...\n",
            "shape of features: (2501, 200704)\n",
            "\n",
            "matrix of probabilities for testing istances:\n",
            " [[2.33153649e-01 7.66846351e-01]\n",
            " [9.89018553e-01 1.09814469e-02]\n",
            " [9.99811516e-01 1.88484368e-04]\n",
            " ...\n",
            " [2.45622631e-02 9.75437737e-01]\n",
            " [5.92369827e-08 9.99999941e-01]\n",
            " [5.19732340e-02 9.48026766e-01]]\n"
          ],
          "name": "stdout"
        }
      ]
    },
    {
      "cell_type": "code",
      "metadata": {
        "colab": {
          "base_uri": "https://localhost:8080/"
        },
        "id": "ltey1XVYgeDA",
        "outputId": "9f1cfa90-916f-45f9-c4c8-ff6ea95c033b"
      },
      "source": [
        "# accuracy of model_block3\n",
        "print('Accuracy on training set: ', acc_training_block3)\n",
        "print('Accuracy on test set: ', acc_test_block3)"
      ],
      "execution_count": 138,
      "outputs": [
        {
          "output_type": "stream",
          "text": [
            "Accuracy on training set:  1.0\n",
            "Accuracy on test set:  0.840063974410236\n"
          ],
          "name": "stdout"
        }
      ]
    },
    {
      "cell_type": "code",
      "metadata": {
        "colab": {
          "base_uri": "https://localhost:8080/",
          "height": 0
        },
        "id": "owQBQZf-dh5i",
        "outputId": "eec25428-5754-4b07-9b35-ee250ea31a40"
      },
      "source": [
        "# confusion matrix of model_block3 on test set\n",
        "fig, ax = plt.subplots(figsize=(8, 8))\n",
        "plot_properties(ax, cm_block3)\n",
        "plt.show()"
      ],
      "execution_count": 139,
      "outputs": [
        {
          "output_type": "display_data",
          "data": {
            "image/png": "[encoded data removed]",
            "text/plain": [
              "<Figure size 576x576 with 1 Axes>"
            ]
          },
          "metadata": {
            "tags": [],
            "needs_background": "dark"
          }
        }
      ]
    },
    {
      "cell_type": "markdown",
      "metadata": {
        "id": "KrRdMpKAiKWn"
      },
      "source": [
        "# Conclusions\n",
        "From the plot that allows us to compare the accuracy with respect to the number of parameters, for training and test set, we can notice that there is *overfitting*. \n",
        "In fact, the accuracy for the training set is always equal to 1 (it sounds strange but the *matrix of probabilities* change from one model to another so I think that errors in the code can be excluded).\n",
        "With regard to the test set, instead, we can see how *accuracy increases with increasing parameters* (which are inversely proportional to the number of features). \n",
        "**The best results are then obtained if we cut the model in correspondence of the last layers.** \n",
        "A possible explanation is that IMAGENET allows a classification of the classes we consider (that is dogs and cats) and therefore produces good features."
      ]
    },
    {
      "cell_type": "code",
      "metadata": {
        "colab": {
          "base_uri": "https://localhost:8080/",
          "height": 0
        },
        "id": "lAJiARHziO6O",
        "outputId": "6b6cc573-614e-4c5e-d981-31ab2a5d564b"
      },
      "source": [
        "# accuracy comparison between training set and test set wrt the number of parameters\n",
        "plt.plot([model_block5.count_params(), model_block4.count_params(), model_block3.count_params()],\n",
        "         [acc_training_block5, acc_training_block4, acc_training_block3],\n",
        "         '-ro')\n",
        "plt.plot([model_block5.count_params(), model_block4.count_params(), model_block3.count_params()],\n",
        "         [acc_test_block5, acc_test_block4, acc_test_block3],\n",
        "         '--bx')\n",
        "plt.title(\"Layers Comparison\")\n",
        "plt.xlabel(\"# Parameters\")\n",
        "plt.ylabel(\"Accuracy\")"
      ],
      "execution_count": 140,
      "outputs": [
        {
          "output_type": "execute_result",
          "data": {
            "text/plain": [
              "Text(0, 0.5, 'Accuracy')"
            ]
          },
          "metadata": {
            "tags": []
          },
          "execution_count": 140
        },
        {
          "output_type": "display_data",
          "data": {
            "image/png": "[encoded data removed]",
            "text/plain": [
              "<Figure size 432x288 with 1 Axes>"
            ]
          },
          "metadata": {
            "tags": [],
            "needs_background": "dark"
          }
        }
      ]
    }
  ]
}